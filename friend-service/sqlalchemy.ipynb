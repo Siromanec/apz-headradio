{
 "cells": [
  {
   "cell_type": "code",
   "id": "initial_id",
   "metadata": {
    "collapsed": true,
    "ExecuteTime": {
     "end_time": "2024-05-15T20:09:34.094846Z",
     "start_time": "2024-05-15T20:09:34.034688Z"
    }
   },
   "source": [
    "from sqlalchemy import String, select, insert, delete, exists, Text, alias, table, join\n",
    "from sqlalchemy.orm import DeclarativeBase, Mapped, mapped_column, Session, aliased, declarative_base\n",
    "from sqlalchemy.dialects import postgresql \n",
    "import sqlalchemy\n",
    "from sqlalchemy import exc\n",
    "\n",
    "postgresql.psycopg2\n",
    "Base = declarative_base()"
   ],
   "outputs": [],
   "execution_count": 83
  },
  {
   "metadata": {
    "ExecuteTime": {
     "end_time": "2024-05-15T20:10:07.155320Z",
     "start_time": "2024-05-15T20:10:07.150677Z"
    }
   },
   "cell_type": "code",
   "source": "",
   "id": "62a004d1d1baa917",
   "outputs": [
    {
     "data": {
      "text/plain": [
       "<module 'sqlalchemy.dialects.postgresql.psycopg2' from 'C:\\\\Users\\\\ADMIN\\\\anaconda3\\\\Lib\\\\site-packages\\\\sqlalchemy\\\\dialects\\\\postgresql\\\\psycopg2.py'>"
      ]
     },
     "execution_count": 87,
     "metadata": {},
     "output_type": "execute_result"
    }
   ],
   "execution_count": 87
  },
  {
   "metadata": {
    "ExecuteTime": {
     "end_time": "2024-05-15T19:44:07.198746Z",
     "start_time": "2024-05-15T19:44:07.190447Z"
    }
   },
   "cell_type": "code",
   "source": [
    "class Friends(Base):\n",
    "    __tablename__ = \"friends\"\n",
    "    username_follows: Mapped[str] = mapped_column(Text(), primary_key=True)\n",
    "    username: Mapped[str] = mapped_column(Text(), primary_key=True)\n",
    "    def __repr__(self) -> str:\n",
    "        return f\"Friend(username_follows={self.username_follows!r}, username={self.username!r})\""
   ],
   "id": "1084710312f6403b",
   "outputs": [],
   "execution_count": 2
  },
  {
   "metadata": {
    "ExecuteTime": {
     "end_time": "2024-05-15T20:19:12.075590Z",
     "start_time": "2024-05-15T20:19:12.067241Z"
    }
   },
   "cell_type": "code",
   "source": [
    "\n",
    "f1 = select(Friends).alias(\"f1\")\n",
    "f2 = select(Friends).alias(\"f2\")\n",
    "\n",
    "username = \"admin\"\n",
    "join_stmt = select(join(f1,f2, (f1.c.username == f2.c.username_follows) & (f2.c.username == f1.c.username_follows))).alias(\"join_stmt\")\n",
    "final_stmt = select(join_stmt.c.username, join_stmt.c.username_follows).where(join_stmt.c.username == username)\n",
    "print(final_stmt)"
   ],
   "id": "a1bab6bd2c611ae8",
   "outputs": [
    {
     "name": "stdout",
     "output_type": "stream",
     "text": [
      "SELECT join_stmt.username, join_stmt.username_follows \n",
      "FROM (SELECT f1.username_follows AS username_follows, f1.username AS username, f2.username_follows AS username_follows_1, f2.username AS username_1 \n",
      "FROM (SELECT friends.username_follows AS username_follows, friends.username AS username \n",
      "FROM friends) AS f1 JOIN (SELECT friends.username_follows AS username_follows, friends.username AS username \n",
      "FROM friends) AS f2 ON f1.username = f2.username_follows AND f2.username = f1.username_follows) AS join_stmt \n",
      "WHERE join_stmt.username = :username_2\n"
     ]
    }
   ],
   "execution_count": 94
  },
  {
   "metadata": {
    "ExecuteTime": {
     "end_time": "2024-05-15T19:58:20.535034Z",
     "start_time": "2024-05-15T19:58:20.530729Z"
    }
   },
   "cell_type": "code",
   "source": "print((f1.c.username == f2.c.username_follows) & (f2.c.username == f1.c.username_follows))",
   "id": "b2c4aec7c140eb7e",
   "outputs": [
    {
     "name": "stdout",
     "output_type": "stream",
     "text": [
      "f1.username = f2.username_follows AND f2.username = f1.username_follows\n"
     ]
    }
   ],
   "execution_count": 25
  }
 ],
 "metadata": {
  "kernelspec": {
   "display_name": "Python 3",
   "language": "python",
   "name": "python3"
  },
  "language_info": {
   "codemirror_mode": {
    "name": "ipython",
    "version": 2
   },
   "file_extension": ".py",
   "mimetype": "text/x-python",
   "name": "python",
   "nbconvert_exporter": "python",
   "pygments_lexer": "ipython2",
   "version": "2.7.6"
  }
 },
 "nbformat": 4,
 "nbformat_minor": 5
}
